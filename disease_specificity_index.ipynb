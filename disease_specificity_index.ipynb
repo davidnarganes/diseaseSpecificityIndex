{
 "cells": [
  {
   "cell_type": "markdown",
   "metadata": {},
   "source": [
    "I will define a poisson distribution to generate some number of diseases associated to genes:"
   ]
  },
  {
   "cell_type": "code",
   "execution_count": 9,
   "metadata": {},
   "outputs": [
    {
     "data": {
      "text/html": [
       "<div>\n",
       "<style scoped>\n",
       "    .dataframe tbody tr th:only-of-type {\n",
       "        vertical-align: middle;\n",
       "    }\n",
       "\n",
       "    .dataframe tbody tr th {\n",
       "        vertical-align: top;\n",
       "    }\n",
       "\n",
       "    .dataframe thead th {\n",
       "        text-align: right;\n",
       "    }\n",
       "</style>\n",
       "<table border=\"1\" class=\"dataframe\">\n",
       "  <thead>\n",
       "    <tr style=\"text-align: right;\">\n",
       "      <th></th>\n",
       "      <th>genes</th>\n",
       "      <th>ass_disseases</th>\n",
       "      <th>diseases</th>\n",
       "    </tr>\n",
       "  </thead>\n",
       "  <tbody>\n",
       "    <tr>\n",
       "      <th>0</th>\n",
       "      <td>0</td>\n",
       "      <td>15</td>\n",
       "      <td>36.0</td>\n",
       "    </tr>\n",
       "    <tr>\n",
       "      <th>1</th>\n",
       "      <td>1</td>\n",
       "      <td>6</td>\n",
       "      <td>36.0</td>\n",
       "    </tr>\n",
       "    <tr>\n",
       "      <th>2</th>\n",
       "      <td>2</td>\n",
       "      <td>6</td>\n",
       "      <td>36.0</td>\n",
       "    </tr>\n",
       "    <tr>\n",
       "      <th>3</th>\n",
       "      <td>3</td>\n",
       "      <td>10</td>\n",
       "      <td>36.0</td>\n",
       "    </tr>\n",
       "    <tr>\n",
       "      <th>4</th>\n",
       "      <td>4</td>\n",
       "      <td>10</td>\n",
       "      <td>36.0</td>\n",
       "    </tr>\n",
       "  </tbody>\n",
       "</table>\n",
       "</div>"
      ],
      "text/plain": [
       "   genes  ass_disseases  diseases\n",
       "0      0             15      36.0\n",
       "1      1              6      36.0\n",
       "2      2              6      36.0\n",
       "3      3             10      36.0\n",
       "4      4             10      36.0"
      ]
     },
     "execution_count": 9,
     "metadata": {},
     "output_type": "execute_result"
    }
   ],
   "source": [
    "import numpy as np\n",
    "import pandas as pd\n",
    "import matplotlib.pyplot as plt\n",
    "\n",
    "Number = 30000\n",
    "genes = [x for x in range(Number)]\n",
    "associated_diseases = np.random.poisson(lam=10, size=Number)\n",
    "diseases = np.floor(max(associated_diseases) + np.mean(associated_diseases))\n",
    "\n",
    "df = pd.DataFrame({'genes':genes, 'ass_disseases':associated_diseases, 'diseases':diseases})\n",
    "df.head()"
   ]
  },
  {
   "cell_type": "markdown",
   "metadata": {},
   "source": [
    "Now I will calculate:\n",
    " - David disease specificity index\n",
    " - DisGeNET disease specificity index\n",
    " \n",
    " How long does it take?"
   ]
  },
  {
   "cell_type": "code",
   "execution_count": 10,
   "metadata": {},
   "outputs": [
    {
     "name": "stdout",
     "output_type": "stream",
     "text": [
      "CPU times: user 2.54 ms, sys: 1.57 ms, total: 4.1 ms\n",
      "Wall time: 2.27 ms\n",
      "CPU times: user 4.28 ms, sys: 1.45 ms, total: 5.73 ms\n",
      "Wall time: 3.94 ms\n"
     ]
    },
    {
     "name": "stderr",
     "output_type": "stream",
     "text": [
      "/anaconda3/lib/python3.6/site-packages/ipykernel_launcher.py:1: RuntimeWarning: divide by zero encountered in log2\n",
      "  \"\"\"Entry point for launching an IPython kernel.\n"
     ]
    }
   ],
   "source": [
    "%time df['david'] = df.diseases / df.ass_disseases\n",
    "%time df['disgenet'] = np.log2(df.ass_disseases/df.diseases)/np.log2(1/df.diseases)"
   ]
  },
  {
   "cell_type": "code",
   "execution_count": 11,
   "metadata": {},
   "outputs": [
    {
     "data": {
      "text/html": [
       "<div>\n",
       "<style scoped>\n",
       "    .dataframe tbody tr th:only-of-type {\n",
       "        vertical-align: middle;\n",
       "    }\n",
       "\n",
       "    .dataframe tbody tr th {\n",
       "        vertical-align: top;\n",
       "    }\n",
       "\n",
       "    .dataframe thead th {\n",
       "        text-align: right;\n",
       "    }\n",
       "</style>\n",
       "<table border=\"1\" class=\"dataframe\">\n",
       "  <thead>\n",
       "    <tr style=\"text-align: right;\">\n",
       "      <th></th>\n",
       "      <th>genes</th>\n",
       "      <th>ass_disseases</th>\n",
       "      <th>diseases</th>\n",
       "      <th>david</th>\n",
       "      <th>disgenet</th>\n",
       "    </tr>\n",
       "  </thead>\n",
       "  <tbody>\n",
       "    <tr>\n",
       "      <th>0</th>\n",
       "      <td>0</td>\n",
       "      <td>15</td>\n",
       "      <td>36.0</td>\n",
       "      <td>2.4</td>\n",
       "      <td>0.244304</td>\n",
       "    </tr>\n",
       "    <tr>\n",
       "      <th>1</th>\n",
       "      <td>1</td>\n",
       "      <td>6</td>\n",
       "      <td>36.0</td>\n",
       "      <td>6.0</td>\n",
       "      <td>0.500000</td>\n",
       "    </tr>\n",
       "    <tr>\n",
       "      <th>2</th>\n",
       "      <td>2</td>\n",
       "      <td>6</td>\n",
       "      <td>36.0</td>\n",
       "      <td>6.0</td>\n",
       "      <td>0.500000</td>\n",
       "    </tr>\n",
       "    <tr>\n",
       "      <th>3</th>\n",
       "      <td>3</td>\n",
       "      <td>10</td>\n",
       "      <td>36.0</td>\n",
       "      <td>3.6</td>\n",
       "      <td>0.357451</td>\n",
       "    </tr>\n",
       "    <tr>\n",
       "      <th>4</th>\n",
       "      <td>4</td>\n",
       "      <td>10</td>\n",
       "      <td>36.0</td>\n",
       "      <td>3.6</td>\n",
       "      <td>0.357451</td>\n",
       "    </tr>\n",
       "  </tbody>\n",
       "</table>\n",
       "</div>"
      ],
      "text/plain": [
       "   genes  ass_disseases  diseases  david  disgenet\n",
       "0      0             15      36.0    2.4  0.244304\n",
       "1      1              6      36.0    6.0  0.500000\n",
       "2      2              6      36.0    6.0  0.500000\n",
       "3      3             10      36.0    3.6  0.357451\n",
       "4      4             10      36.0    3.6  0.357451"
      ]
     },
     "execution_count": 11,
     "metadata": {},
     "output_type": "execute_result"
    }
   ],
   "source": [
    "df.head()"
   ]
  },
  {
   "cell_type": "markdown",
   "metadata": {},
   "source": [
    "Is the ranking the same?"
   ]
  },
  {
   "cell_type": "code",
   "execution_count": 12,
   "metadata": {},
   "outputs": [
    {
     "data": {
      "image/png": "[encoded data removed]",
      "text/plain": [
       "<Figure size 1440x288 with 1 Axes>"
      ]
     },
     "metadata": {},
     "output_type": "display_data"
    }
   ],
   "source": [
    "x = [x for x in range(35)]\n",
    "\n",
    "plt.figure(figsize = (20,4))\n",
    "plt.scatter(np.log(df.david), df.disgenet, color = 'b')\n",
    "plt.show()"
   ]
  },
  {
   "cell_type": "code",
   "execution_count": 22,
   "metadata": {},
   "outputs": [
    {
     "data": {
      "text/plain": [
       "27139    True\n",
       "26451    True\n",
       "29425    True\n",
       "25261    True\n",
       "23668    True\n",
       "177      True\n",
       "23295    True\n",
       "4331     True\n",
       "3408     True\n",
       "7535     True\n",
       "6384     True\n",
       "16809    True\n",
       "6658     True\n",
       "29417    True\n",
       "6790     True\n",
       "27362    True\n",
       "27293    True\n",
       "3308     True\n",
       "24344    True\n",
       "20868    True\n",
       "23777    True\n",
       "23785    True\n",
       "2153     True\n",
       "21965    True\n",
       "3948     True\n",
       "25675    True\n",
       "16953    True\n",
       "27799    True\n",
       "9130     True\n",
       "5170     True\n",
       "         ... \n",
       "18313    True\n",
       "27382    True\n",
       "3049     True\n",
       "5626     True\n",
       "24405    True\n",
       "5177     True\n",
       "908      True\n",
       "4780     True\n",
       "22684    True\n",
       "29061    True\n",
       "9371     True\n",
       "5990     True\n",
       "12976    True\n",
       "4254     True\n",
       "26993    True\n",
       "1895     True\n",
       "7950     True\n",
       "11929    True\n",
       "22597    True\n",
       "23219    True\n",
       "10739    True\n",
       "430      True\n",
       "561      True\n",
       "8049     True\n",
       "12932    True\n",
       "17897    True\n",
       "21247    True\n",
       "4132     True\n",
       "23842    True\n",
       "151      True\n",
       "Name: genes, Length: 30000, dtype: bool"
      ]
     },
     "execution_count": 22,
     "metadata": {},
     "output_type": "execute_result"
    }
   ],
   "source": [
    "rank1 = df[['genes','david']].sort_values('david')['genes']\n",
    "rank2 = df[['genes','david']].sort_values('')['genes']\n",
    "\n",
    "rank1 == rank2"
   ]
  },
  {
   "cell_type": "code",
   "execution_count": null,
   "metadata": {},
   "outputs": [],
   "source": []
  }
 ],
 "metadata": {
  "kernelspec": {
   "display_name": "Python 3",
   "language": "python",
   "name": "python3"
  },
  "language_info": {
   "codemirror_mode": {
    "name": "ipython",
    "version": 3
   },
   "file_extension": ".py",
   "mimetype": "text/x-python",
   "name": "python",
   "nbconvert_exporter": "python",
   "pygments_lexer": "ipython3",
   "version": "3.6.5"
  }
 },
 "nbformat": 4,
 "nbformat_minor": 2
}
